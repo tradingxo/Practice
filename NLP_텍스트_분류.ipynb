{
  "nbformat": 4,
  "nbformat_minor": 0,
  "metadata": {
    "colab": {
      "name": "NLP 텍스트 분류",
      "provenance": [],
      "authorship_tag": "ABX9TyO2ZXpnivysJwfoME5dCqJF",
      "include_colab_link": true
    },
    "kernelspec": {
      "name": "python3",
      "display_name": "Python 3"
    },
    "language_info": {
      "name": "python"
    },
    "accelerator": "GPU"
  },
  "cells": [
    {
      "cell_type": "markdown",
      "metadata": {
        "id": "view-in-github",
        "colab_type": "text"
      },
      "source": [
        "<a href=\"https://colab.research.google.com/github/tradingxo/Practice/blob/main/NLP_%ED%85%8D%EC%8A%A4%ED%8A%B8_%EB%B6%84%EB%A5%98.ipynb\" target=\"_parent\"><img src=\"https://colab.research.google.com/assets/colab-badge.svg\" alt=\"Open In Colab\"/></a>"
      ]
    },
    {
      "cell_type": "markdown",
      "source": [
        "# **영화 리뷰를 통한 텍스트 분류**"
      ],
      "metadata": {
        "id": "5Fit3k1wPE1u"
      }
    },
    {
      "cell_type": "code",
      "execution_count": 29,
      "metadata": {
        "colab": {
          "base_uri": "https://localhost:8080/"
        },
        "id": "NKHu3AbvNumn",
        "outputId": "f339dd31-1673-4d55-d1eb-c013d07dc7d2"
      },
      "outputs": [
        {
          "output_type": "stream",
          "name": "stdout",
          "text": [
            "Version:  2.7.0\n",
            "Eager mode:  True\n",
            "Hub version:  0.12.0\n",
            "GPU is available\n"
          ]
        }
      ],
      "source": [
        "import numpy as np\n",
        "\n",
        "import tensorflow as tf\n",
        "import tensorflow_hub as hub\n",
        "import tensorflow_datasets as tfds\n",
        "\n",
        "import matplotlib.pyplot as plt\n",
        "\n",
        "print(\"Version: \", tf.__version__)\n",
        "print(\"Eager mode: \", tf.executing_eagerly())\n",
        "print(\"Hub version: \", hub.__version__)\n",
        "print(\"GPU is\", \"available\" if tf.config.list_physical_devices('GPU') else \"NOT AVAILABLE\")"
      ]
    },
    {
      "cell_type": "code",
      "source": [
        "# 데이터 다운로드\n",
        "# 0은 부정적, 1은 긍정적 리뷰\n",
        "train_data, test_data = tfds.load(name=\"imdb_reviews\", split=[\"train\", \"test\"], \n",
        "                                  batch_size=-1, as_supervised=True)\n",
        "\n",
        "train_examples, train_labels = tfds.as_numpy(train_data)\n",
        "test_examples, test_labels = tfds.as_numpy(test_data)"
      ],
      "metadata": {
        "id": "GCmtwDtFNyYs"
      },
      "execution_count": 30,
      "outputs": []
    },
    {
      "cell_type": "code",
      "source": [
        "# 데이터 탐색\n",
        "import numpy as np\n",
        "\n",
        "import tensorflow as tf\n",
        "import tensorflow_hub as hub\n",
        "import tensorflow_datasets as tfds\n",
        "\n",
        "import matplotlib.pyplot as plt\n",
        "\n",
        "print(\"Version: \", tf.__version__)\n",
        "print(\"Eager mode: \", tf.executing_eagerly())\n",
        "print(\"Hub version: \", hub.__version__)\n",
        "print(\"GPU is\", \"available\" if tf.config.list_physical_devices('GPU') else \"NOT AVAILABLE\")"
      ],
      "metadata": {
        "colab": {
          "base_uri": "https://localhost:8080/"
        },
        "id": "credR_ZuOHDk",
        "outputId": "3138628d-e2f1-4ca8-d4bd-835e5b9fe48c"
      },
      "execution_count": 31,
      "outputs": [
        {
          "output_type": "stream",
          "name": "stdout",
          "text": [
            "Version:  2.7.0\n",
            "Eager mode:  True\n",
            "Hub version:  0.12.0\n",
            "GPU is available\n"
          ]
        }
      ]
    },
    {
      "cell_type": "code",
      "source": [
        "train_data, test_data = tfds.load(name=\"imdb_reviews\", split=[\"train\", \"test\"], \n",
        "                                  batch_size=-1, as_supervised=True)\n",
        "\n",
        "train_examples, train_labels = tfds.as_numpy(train_data)\n",
        "test_examples, test_labels = tfds.as_numpy(test_data)"
      ],
      "metadata": {
        "id": "VZA7QCLcOLot"
      },
      "execution_count": 32,
      "outputs": []
    },
    {
      "cell_type": "markdown",
      "source": [
        "# **데이터 탐색**"
      ],
      "metadata": {
        "id": "Ew324t7nOXv9"
      }
    },
    {
      "cell_type": "code",
      "source": [
        "print(\"Training entries: {}, test entries: {}\".format(len(train_examples), len(test_examples)))"
      ],
      "metadata": {
        "colab": {
          "base_uri": "https://localhost:8080/"
        },
        "id": "ri-5wbLFOcQ0",
        "outputId": "300e901a-884b-4dc9-99d4-28d2767678ab"
      },
      "execution_count": 33,
      "outputs": [
        {
          "output_type": "stream",
          "name": "stdout",
          "text": [
            "Training entries: 25000, test entries: 25000\n"
          ]
        }
      ]
    },
    {
      "cell_type": "code",
      "source": [
        "train_examples[:10]"
      ],
      "metadata": {
        "colab": {
          "base_uri": "https://localhost:8080/"
        },
        "id": "adm0JQPnOfET",
        "outputId": "8c8ba84a-2189-4b10-bc06-79b0e2453966"
      },
      "execution_count": 34,
      "outputs": [
        {
          "output_type": "execute_result",
          "data": {
            "text/plain": [
              "array([b\"This was an absolutely terrible movie. Don't be lured in by Christopher Walken or Michael Ironside. Both are great actors, but this must simply be their worst role in history. Even their great acting could not redeem this movie's ridiculous storyline. This movie is an early nineties US propaganda piece. The most pathetic scenes were those when the Columbian rebels were making their cases for revolutions. Maria Conchita Alonso appeared phony, and her pseudo-love affair with Walken was nothing but a pathetic emotional plug in a movie that was devoid of any real meaning. I am disappointed that there are movies like this, ruining actor's like Christopher Walken's good name. I could barely sit through it.\",\n",
              "       b'I have been known to fall asleep during films, but this is usually due to a combination of things including, really tired, being warm and comfortable on the sette and having just eaten a lot. However on this occasion I fell asleep because the film was rubbish. The plot development was constant. Constantly slow and boring. Things seemed to happen, but with no explanation of what was causing them or why. I admit, I may have missed part of the film, but i watched the majority of it and everything just seemed to happen of its own accord without any real concern for anything else. I cant recommend this film at all.',\n",
              "       b'Mann photographs the Alberta Rocky Mountains in a superb fashion, and Jimmy Stewart and Walter Brennan give enjoyable performances as they always seem to do. <br /><br />But come on Hollywood - a Mountie telling the people of Dawson City, Yukon to elect themselves a marshal (yes a marshal!) and to enforce the law themselves, then gunfighters battling it out on the streets for control of the town? <br /><br />Nothing even remotely resembling that happened on the Canadian side of the border during the Klondike gold rush. Mr. Mann and company appear to have mistaken Dawson City for Deadwood, the Canadian North for the American Wild West.<br /><br />Canadian viewers be prepared for a Reefer Madness type of enjoyable howl with this ludicrous plot, or, to shake your head in disgust.',\n",
              "       b'This is the kind of film for a snowy Sunday afternoon when the rest of the world can go ahead with its own business as you descend into a big arm-chair and mellow for a couple of hours. Wonderful performances from Cher and Nicolas Cage (as always) gently row the plot along. There are no rapids to cross, no dangerous waters, just a warm and witty paddle through New York life at its best. A family film in every sense and one that deserves the praise it received.',\n",
              "       b'As others have mentioned, all the women that go nude in this film are mostly absolutely gorgeous. The plot very ably shows the hypocrisy of the female libido. When men are around they want to be pursued, but when no \"men\" are around, they become the pursuers of a 14 year old boy. And the boy becomes a man really fast (we should all be so lucky at this age!). He then gets up the courage to pursue his true love.',\n",
              "       b\"This is a film which should be seen by anybody interested in, effected by, or suffering from an eating disorder. It is an amazingly accurate and sensitive portrayal of bulimia in a teenage girl, its causes and its symptoms. The girl is played by one of the most brilliant young actresses working in cinema today, Alison Lohman, who was later so spectacular in 'Where the Truth Lies'. I would recommend that this film be shown in all schools, as you will never see a better on this subject. Alison Lohman is absolutely outstanding, and one marvels at her ability to convey the anguish of a girl suffering from this compulsive disorder. If barometers tell us the air pressure, Alison Lohman tells us the emotional pressure with the same degree of accuracy. Her emotional range is so precise, each scene could be measured microscopically for its gradations of trauma, on a scale of rising hysteria and desperation which reaches unbearable intensity. Mare Winningham is the perfect choice to play her mother, and does so with immense sympathy and a range of emotions just as finely tuned as Lohman's. Together, they make a pair of sensitive emotional oscillators vibrating in resonance with one another. This film is really an astonishing achievement, and director Katt Shea should be proud of it. The only reason for not seeing it is if you are not interested in people. But even if you like nature films best, this is after all animal behaviour at the sharp edge. Bulimia is an extreme version of how a tormented soul can destroy her own body in a frenzy of despair. And if we don't sympathise with people suffering from the depths of despair, then we are dead inside.\",\n",
              "       b'Okay, you have:<br /><br />Penelope Keith as Miss Herringbone-Tweed, B.B.E. (Backbone of England.) She\\'s killed off in the first scene - that\\'s right, folks; this show has no backbone!<br /><br />Peter O\\'Toole as Ol\\' Colonel Cricket from The First War and now the emblazered Lord of the Manor.<br /><br />Joanna Lumley as the ensweatered Lady of the Manor, 20 years younger than the colonel and 20 years past her own prime but still glamourous (Brit spelling, not mine) enough to have a toy-boy on the side. It\\'s alright, they have Col. Cricket\\'s full knowledge and consent (they guy even comes \\'round for Christmas!) Still, she\\'s considerate of the colonel enough to have said toy-boy her own age (what a gal!)<br /><br />David McCallum as said toy-boy, equally as pointlessly glamourous as his squeeze. Pilcher couldn\\'t come up with any cover for him within the story, so she gave him a hush-hush job at the Circus.<br /><br />and finally:<br /><br />Susan Hampshire as Miss Polonia Teacups, Venerable Headmistress of the Venerable Girls\\' Boarding-School, serving tea in her office with a dash of deep, poignant advice for life in the outside world just before graduation. Her best bit of advice: \"I\\'ve only been to Nancherrow (the local Stately Home of England) once. I thought it was very beautiful but, somehow, not part of the real world.\" Well, we can\\'t say they didn\\'t warn us.<br /><br />Ah, Susan - time was, your character would have been running the whole show. They don\\'t write \\'em like that any more. Our loss, not yours.<br /><br />So - with a cast and setting like this, you have the re-makings of \"Brideshead Revisited,\" right?<br /><br />Wrong! They took these 1-dimensional supporting roles because they paid so well. After all, acting is one of the oldest temp-jobs there is (YOU name another!)<br /><br />First warning sign: lots and lots of backlighting. They get around it by shooting outdoors - \"hey, it\\'s just the sunlight!\"<br /><br />Second warning sign: Leading Lady cries a lot. When not crying, her eyes are moist. That\\'s the law of romance novels: Leading Lady is \"dewy-eyed.\"<br /><br />Henceforth, Leading Lady shall be known as L.L.<br /><br />Third warning sign: L.L. actually has stars in her eyes when she\\'s in love. Still, I\\'ll give Emily Mortimer an award just for having to act with that spotlight in her eyes (I wonder . did they use contacts?)<br /><br />And lastly, fourth warning sign: no on-screen female character is \"Mrs.\" She\\'s either \"Miss\" or \"Lady.\"<br /><br />When all was said and done, I still couldn\\'t tell you who was pursuing whom and why. I couldn\\'t even tell you what was said and done.<br /><br />To sum up: they all live through World War II without anything happening to them at all.<br /><br />OK, at the end, L.L. finds she\\'s lost her parents to the Japanese prison camps and baby sis comes home catatonic. Meanwhile (there\\'s always a \"meanwhile,\") some young guy L.L. had a crush on (when, I don\\'t know) comes home from some wartime tough spot and is found living on the street by Lady of the Manor (must be some street if SHE\\'s going to find him there.) Both war casualties are whisked away to recover at Nancherrow (SOMEBODY has to be \"whisked away\" SOMEWHERE in these romance stories!)<br /><br />Great drama.',\n",
              "       b'The film is based on a genuine 1950s novel.<br /><br />Journalist Colin McInnes wrote a set of three \"London novels\": \"Absolute Beginners\", \"City of Spades\" and \"Mr Love and Justice\". I have read all three. The first two are excellent. The last, perhaps an experiment that did not come off. But McInnes\\'s work is highly acclaimed; and rightly so. This musical is the novelist\\'s ultimate nightmare - to see the fruits of one\\'s mind being turned into a glitzy, badly-acted, soporific one-dimensional apology of a film that says it captures the spirit of 1950s London, and does nothing of the sort.<br /><br />Thank goodness Colin McInnes wasn\\'t alive to witness it.',\n",
              "       b'I really love the sexy action and sci-fi films of the sixties and its because of the actress\\'s that appeared in them. They found the sexiest women to be in these films and it didn\\'t matter if they could act (Remember \"Candy\"?). The reason I was disappointed by this film was because it wasn\\'t nostalgic enough. The story here has a European sci-fi film called \"Dragonfly\" being made and the director is fired. So the producers decide to let a young aspiring filmmaker (Jeremy Davies) to complete the picture. They\\'re is one real beautiful woman in the film who plays Dragonfly but she\\'s barely in it. Film is written and directed by Roman Coppola who uses some of his fathers exploits from his early days and puts it into the script. I wish the film could have been an homage to those early films. They could have lots of cameos by actors who appeared in them. There is one actor in this film who was popular from the sixties and its John Phillip Law (Barbarella). Gerard Depardieu, Giancarlo Giannini and Dean Stockwell appear as well. I guess I\\'m going to have to continue waiting for a director to make a good homage to the films of the sixties. If any are reading this, \"Make it as sexy as you can\"! I\\'ll be waiting!',\n",
              "       b'Sure, this one isn\\'t really a blockbuster, nor does it target such a position. \"Dieter\" is the first name of a quite popular German musician, who is either loved or hated for his kind of acting and thats exactly what this movie is about. It is based on the autobiography \"Dieter Bohlen\" wrote a few years ago but isn\\'t meant to be accurate on that. The movie is filled with some sexual offensive content (at least for American standard) which is either amusing (not for the other \"actors\" of course) or dumb - it depends on your individual kind of humor or on you being a \"Bohlen\"-Fan or not. Technically speaking there isn\\'t much to criticize. Speaking of me I find this movie to be an OK-movie.'],\n",
              "      dtype=object)"
            ]
          },
          "metadata": {},
          "execution_count": 34
        }
      ]
    },
    {
      "cell_type": "code",
      "source": [
        "train_labels[:10]"
      ],
      "metadata": {
        "colab": {
          "base_uri": "https://localhost:8080/"
        },
        "id": "rg21epf7Og6D",
        "outputId": "2afdfc7b-18bd-4eb7-ee73-a7d72c8e3a41"
      },
      "execution_count": 35,
      "outputs": [
        {
          "output_type": "execute_result",
          "data": {
            "text/plain": [
              "array([0, 0, 0, 1, 1, 1, 0, 0, 0, 0])"
            ]
          },
          "metadata": {},
          "execution_count": 35
        }
      ]
    },
    {
      "cell_type": "markdown",
      "source": [
        "# **모델 구축**"
      ],
      "metadata": {
        "id": "Yo90WQwzOpLL"
      }
    },
    {
      "cell_type": "code",
      "source": [
        "# 예제 출력\n",
        "\n",
        "model = \"https://tfhub.dev/google/nnlm-en-dim50/2\"\n",
        "hub_layer = hub.KerasLayer(model, input_shape=[], dtype=tf.string, trainable=True)\n",
        "hub_layer(train_examples[:3])"
      ],
      "metadata": {
        "colab": {
          "base_uri": "https://localhost:8080/"
        },
        "id": "kWruxTi-Os1M",
        "outputId": "af7abaea-2228-4179-ab4d-bfe489e842c2"
      },
      "execution_count": 17,
      "outputs": [
        {
          "output_type": "execute_result",
          "data": {
            "text/plain": [
              "<tf.Tensor: shape=(3, 50), dtype=float32, numpy=\n",
              "array([[ 0.5423194 , -0.01190171,  0.06337537,  0.0686297 , -0.16776839,\n",
              "        -0.10581177,  0.168653  , -0.04998823, -0.31148052,  0.07910344,\n",
              "         0.15442258,  0.01488661,  0.03930155,  0.19772716, -0.12215477,\n",
              "        -0.04120982, -0.27041087, -0.21922147,  0.26517656, -0.80739075,\n",
              "         0.25833526, -0.31004202,  0.2868321 ,  0.19433866, -0.29036498,\n",
              "         0.0386285 , -0.78444123, -0.04793238,  0.41102988, -0.36388886,\n",
              "        -0.58034706,  0.30269453,  0.36308962, -0.15227163, -0.4439151 ,\n",
              "         0.19462997,  0.19528405,  0.05666233,  0.2890704 , -0.28468323,\n",
              "        -0.00531206,  0.0571938 , -0.3201319 , -0.04418665, -0.08550781,\n",
              "        -0.55847436, -0.2333639 , -0.20782956, -0.03543065, -0.17533456],\n",
              "       [ 0.56338924, -0.12339553, -0.10862677,  0.7753425 , -0.07667087,\n",
              "        -0.15752274,  0.01872334, -0.08169781, -0.3521876 ,  0.46373403,\n",
              "        -0.08492758,  0.07166861, -0.00670818,  0.12686071, -0.19326551,\n",
              "        -0.5262643 , -0.32958236,  0.14394784,  0.09043556, -0.54175544,\n",
              "         0.02468163, -0.15456744,  0.68333143,  0.09068333, -0.45327246,\n",
              "         0.23180094, -0.8615696 ,  0.3448039 ,  0.12838459, -0.58759046,\n",
              "        -0.40712303,  0.23061076,  0.48426905, -0.2712814 , -0.5380918 ,\n",
              "         0.47016335,  0.2257274 , -0.00830665,  0.28462422, -0.30498496,\n",
              "         0.04400366,  0.25025868,  0.14867125,  0.4071703 , -0.15422425,\n",
              "        -0.06878027, -0.40825695, -0.31492147,  0.09283663, -0.20183429],\n",
              "       [ 0.7456156 ,  0.21256858,  0.1440033 ,  0.52338624,  0.11032254,\n",
              "         0.00902788, -0.36678016, -0.08938274, -0.24165548,  0.33384597,\n",
              "        -0.111946  , -0.01460045, -0.00716449,  0.19562715,  0.00685217,\n",
              "        -0.24886714, -0.42796353,  0.1862    , -0.05241097, -0.664625  ,\n",
              "         0.13449019, -0.22205493,  0.08633009,  0.43685383,  0.2972681 ,\n",
              "         0.36140728, -0.71968895,  0.05291242, -0.1431612 , -0.15733941,\n",
              "        -0.15056324, -0.05988007, -0.08178931, -0.15569413, -0.09303784,\n",
              "        -0.18971168,  0.0762079 , -0.02541647, -0.27134502, -0.3392682 ,\n",
              "        -0.10296471, -0.27275252, -0.34078008,  0.20083308, -0.26644838,\n",
              "         0.00655449, -0.05141485, -0.04261916, -0.4541363 ,  0.20023566]],\n",
              "      dtype=float32)>"
            ]
          },
          "metadata": {},
          "execution_count": 17
        }
      ]
    },
    {
      "cell_type": "code",
      "source": [
        "model = tf.keras.Sequential()\n",
        "model.add(hub_layer)\n",
        "model.add(tf.keras.layers.Dense(16, activation='relu'))\n",
        "model.add(tf.keras.layers.Dense(1))\n",
        "\n",
        "model.summary()"
      ],
      "metadata": {
        "colab": {
          "base_uri": "https://localhost:8080/"
        },
        "id": "D70DHuDqOxiz",
        "outputId": "3a373383-2540-46b0-eae0-9f6ef737f041"
      },
      "execution_count": 18,
      "outputs": [
        {
          "output_type": "stream",
          "name": "stdout",
          "text": [
            "Model: \"sequential_1\"\n",
            "_________________________________________________________________\n",
            " Layer (type)                Output Shape              Param #   \n",
            "=================================================================\n",
            " keras_layer_1 (KerasLayer)  (None, 50)                48190600  \n",
            "                                                                 \n",
            " dense_2 (Dense)             (None, 16)                816       \n",
            "                                                                 \n",
            " dense_3 (Dense)             (None, 1)                 17        \n",
            "                                                                 \n",
            "=================================================================\n",
            "Total params: 48,191,433\n",
            "Trainable params: 48,191,433\n",
            "Non-trainable params: 0\n",
            "_________________________________________________________________\n"
          ]
        }
      ]
    },
    {
      "cell_type": "code",
      "source": [
        "model.compile(optimizer='adam',\n",
        "              loss=tf.losses.BinaryCrossentropy(from_logits=True),\n",
        "              metrics=[tf.metrics.BinaryAccuracy(threshold=0.0, name='accuracy')])"
      ],
      "metadata": {
        "id": "hlyECdc7O0fV"
      },
      "execution_count": 20,
      "outputs": []
    },
    {
      "cell_type": "code",
      "source": [
        "x_val = train_examples[:10000]\n",
        "partial_x_train = train_examples[10000:]\n",
        "\n",
        "y_val = train_labels[:10000]\n",
        "partial_y_train = train_labels[10000:]"
      ],
      "metadata": {
        "id": "szQ4cbYHO1d1"
      },
      "execution_count": 21,
      "outputs": []
    },
    {
      "cell_type": "code",
      "source": [
        "history = model.fit(partial_x_train,\n",
        "                    partial_y_train,\n",
        "                    epochs=40,\n",
        "                    batch_size=512,\n",
        "                    validation_data=(x_val, y_val),\n",
        "                    verbose=1)"
      ],
      "metadata": {
        "colab": {
          "base_uri": "https://localhost:8080/"
        },
        "id": "pzStMqfBO2fv",
        "outputId": "dcba9f0d-7fa0-42e4-afee-375166b7efe1"
      },
      "execution_count": 22,
      "outputs": [
        {
          "output_type": "stream",
          "name": "stdout",
          "text": [
            "Epoch 1/40\n",
            "30/30 [==============================] - 3s 82ms/step - loss: 0.6647 - accuracy: 0.6037 - val_loss: 0.6157 - val_accuracy: 0.7031\n",
            "Epoch 2/40\n",
            "30/30 [==============================] - 2s 75ms/step - loss: 0.5538 - accuracy: 0.7648 - val_loss: 0.5128 - val_accuracy: 0.7836\n",
            "Epoch 3/40\n",
            "30/30 [==============================] - 2s 73ms/step - loss: 0.4208 - accuracy: 0.8469 - val_loss: 0.4097 - val_accuracy: 0.8313\n",
            "Epoch 4/40\n",
            "30/30 [==============================] - 2s 75ms/step - loss: 0.3014 - accuracy: 0.8947 - val_loss: 0.3499 - val_accuracy: 0.8541\n",
            "Epoch 5/40\n",
            "30/30 [==============================] - 2s 74ms/step - loss: 0.2188 - accuracy: 0.9274 - val_loss: 0.3212 - val_accuracy: 0.8651\n",
            "Epoch 6/40\n",
            "30/30 [==============================] - 2s 74ms/step - loss: 0.1593 - accuracy: 0.9511 - val_loss: 0.3114 - val_accuracy: 0.8692\n",
            "Epoch 7/40\n",
            "30/30 [==============================] - 2s 76ms/step - loss: 0.1142 - accuracy: 0.9703 - val_loss: 0.3099 - val_accuracy: 0.8723\n",
            "Epoch 8/40\n",
            "30/30 [==============================] - 2s 74ms/step - loss: 0.0809 - accuracy: 0.9823 - val_loss: 0.3164 - val_accuracy: 0.8706\n",
            "Epoch 9/40\n",
            "30/30 [==============================] - 2s 74ms/step - loss: 0.0568 - accuracy: 0.9911 - val_loss: 0.3285 - val_accuracy: 0.8708\n",
            "Epoch 10/40\n",
            "30/30 [==============================] - 2s 73ms/step - loss: 0.0400 - accuracy: 0.9959 - val_loss: 0.3412 - val_accuracy: 0.8699\n",
            "Epoch 11/40\n",
            "30/30 [==============================] - 2s 74ms/step - loss: 0.0285 - accuracy: 0.9979 - val_loss: 0.3537 - val_accuracy: 0.8696\n",
            "Epoch 12/40\n",
            "30/30 [==============================] - 2s 72ms/step - loss: 0.0208 - accuracy: 0.9991 - val_loss: 0.3681 - val_accuracy: 0.8689\n",
            "Epoch 13/40\n",
            "30/30 [==============================] - 2s 73ms/step - loss: 0.0155 - accuracy: 0.9995 - val_loss: 0.3810 - val_accuracy: 0.8675\n",
            "Epoch 14/40\n",
            "30/30 [==============================] - 2s 72ms/step - loss: 0.0118 - accuracy: 0.9997 - val_loss: 0.3932 - val_accuracy: 0.8683\n",
            "Epoch 15/40\n",
            "30/30 [==============================] - 2s 73ms/step - loss: 0.0093 - accuracy: 0.9999 - val_loss: 0.4053 - val_accuracy: 0.8664\n",
            "Epoch 16/40\n",
            "30/30 [==============================] - 2s 73ms/step - loss: 0.0074 - accuracy: 0.9999 - val_loss: 0.4164 - val_accuracy: 0.8674\n",
            "Epoch 17/40\n",
            "30/30 [==============================] - 2s 75ms/step - loss: 0.0060 - accuracy: 0.9999 - val_loss: 0.4263 - val_accuracy: 0.8668\n",
            "Epoch 18/40\n",
            "30/30 [==============================] - 2s 74ms/step - loss: 0.0050 - accuracy: 1.0000 - val_loss: 0.4359 - val_accuracy: 0.8662\n",
            "Epoch 19/40\n",
            "30/30 [==============================] - 2s 74ms/step - loss: 0.0042 - accuracy: 1.0000 - val_loss: 0.4450 - val_accuracy: 0.8657\n",
            "Epoch 20/40\n",
            "30/30 [==============================] - 2s 74ms/step - loss: 0.0036 - accuracy: 1.0000 - val_loss: 0.4540 - val_accuracy: 0.8658\n",
            "Epoch 21/40\n",
            "30/30 [==============================] - 2s 75ms/step - loss: 0.0031 - accuracy: 1.0000 - val_loss: 0.4613 - val_accuracy: 0.8650\n",
            "Epoch 22/40\n",
            "30/30 [==============================] - 2s 74ms/step - loss: 0.0027 - accuracy: 1.0000 - val_loss: 0.4691 - val_accuracy: 0.8656\n",
            "Epoch 23/40\n",
            "30/30 [==============================] - 2s 74ms/step - loss: 0.0024 - accuracy: 1.0000 - val_loss: 0.4761 - val_accuracy: 0.8654\n",
            "Epoch 24/40\n",
            "30/30 [==============================] - 2s 75ms/step - loss: 0.0021 - accuracy: 1.0000 - val_loss: 0.4826 - val_accuracy: 0.8646\n",
            "Epoch 25/40\n",
            "30/30 [==============================] - 2s 75ms/step - loss: 0.0019 - accuracy: 1.0000 - val_loss: 0.4894 - val_accuracy: 0.8645\n",
            "Epoch 26/40\n",
            "30/30 [==============================] - 2s 74ms/step - loss: 0.0017 - accuracy: 1.0000 - val_loss: 0.4953 - val_accuracy: 0.8642\n",
            "Epoch 27/40\n",
            "30/30 [==============================] - 2s 74ms/step - loss: 0.0015 - accuracy: 1.0000 - val_loss: 0.5013 - val_accuracy: 0.8641\n",
            "Epoch 28/40\n",
            "30/30 [==============================] - 2s 73ms/step - loss: 0.0014 - accuracy: 1.0000 - val_loss: 0.5072 - val_accuracy: 0.8641\n",
            "Epoch 29/40\n",
            "30/30 [==============================] - 2s 74ms/step - loss: 0.0013 - accuracy: 1.0000 - val_loss: 0.5127 - val_accuracy: 0.8638\n",
            "Epoch 30/40\n",
            "30/30 [==============================] - 2s 73ms/step - loss: 0.0012 - accuracy: 1.0000 - val_loss: 0.5181 - val_accuracy: 0.8637\n",
            "Epoch 31/40\n",
            "30/30 [==============================] - 2s 73ms/step - loss: 0.0011 - accuracy: 1.0000 - val_loss: 0.5228 - val_accuracy: 0.8639\n",
            "Epoch 32/40\n",
            "30/30 [==============================] - 2s 71ms/step - loss: 9.7834e-04 - accuracy: 1.0000 - val_loss: 0.5277 - val_accuracy: 0.8636\n",
            "Epoch 33/40\n",
            "30/30 [==============================] - 2s 71ms/step - loss: 9.0486e-04 - accuracy: 1.0000 - val_loss: 0.5325 - val_accuracy: 0.8639\n",
            "Epoch 34/40\n",
            "30/30 [==============================] - 2s 72ms/step - loss: 8.3997e-04 - accuracy: 1.0000 - val_loss: 0.5370 - val_accuracy: 0.8635\n",
            "Epoch 35/40\n",
            "30/30 [==============================] - 2s 72ms/step - loss: 7.8149e-04 - accuracy: 1.0000 - val_loss: 0.5412 - val_accuracy: 0.8634\n",
            "Epoch 36/40\n",
            "30/30 [==============================] - 2s 72ms/step - loss: 7.2707e-04 - accuracy: 1.0000 - val_loss: 0.5461 - val_accuracy: 0.8634\n",
            "Epoch 37/40\n",
            "30/30 [==============================] - 2s 72ms/step - loss: 6.7828e-04 - accuracy: 1.0000 - val_loss: 0.5495 - val_accuracy: 0.8626\n",
            "Epoch 38/40\n",
            "30/30 [==============================] - 2s 71ms/step - loss: 6.3528e-04 - accuracy: 1.0000 - val_loss: 0.5540 - val_accuracy: 0.8637\n",
            "Epoch 39/40\n",
            "30/30 [==============================] - 2s 72ms/step - loss: 5.9603e-04 - accuracy: 1.0000 - val_loss: 0.5580 - val_accuracy: 0.8635\n",
            "Epoch 40/40\n",
            "30/30 [==============================] - 2s 72ms/step - loss: 5.6042e-04 - accuracy: 1.0000 - val_loss: 0.5616 - val_accuracy: 0.8635\n"
          ]
        }
      ]
    },
    {
      "cell_type": "markdown",
      "source": [
        "# **모델 평가**"
      ],
      "metadata": {
        "id": "JzG9MTRrO6Zb"
      }
    },
    {
      "cell_type": "code",
      "source": [
        "results = model.evaluate(test_examples, test_labels)\n",
        "\n",
        "print(results)"
      ],
      "metadata": {
        "colab": {
          "base_uri": "https://localhost:8080/"
        },
        "id": "F2gQIiwLO9NK",
        "outputId": "5bf698f6-3dea-4134-8bea-1cb6e62b4782"
      },
      "execution_count": 25,
      "outputs": [
        {
          "output_type": "stream",
          "name": "stdout",
          "text": [
            "782/782 [==============================] - 7s 8ms/step - loss: 0.6243 - accuracy: 0.8451\n",
            "[0.6243473291397095, 0.8451200127601624]\n"
          ]
        }
      ]
    },
    {
      "cell_type": "code",
      "source": [
        "history_dict = history.history\n",
        "\n",
        "# 사전 항목 확인\n",
        "history_dict.keys()"
      ],
      "metadata": {
        "colab": {
          "base_uri": "https://localhost:8080/"
        },
        "id": "OGf-ZtCdSMMn",
        "outputId": "bbd0d408-511c-4715-fa9c-abbf3e94541b"
      },
      "execution_count": 26,
      "outputs": [
        {
          "output_type": "execute_result",
          "data": {
            "text/plain": [
              "dict_keys(['loss', 'accuracy', 'val_loss', 'val_accuracy'])"
            ]
          },
          "metadata": {},
          "execution_count": 26
        }
      ]
    },
    {
      "cell_type": "code",
      "source": [
        "acc = history_dict['accuracy']\n",
        "val_acc = history_dict['val_accuracy']\n",
        "loss = history_dict['loss']\n",
        "val_loss = history_dict['val_loss']\n",
        "\n",
        "epochs = range(1, len(acc) + 1)\n",
        "\n",
        "# \"bo\" is for \"blue dot\"\n",
        "plt.plot(epochs, loss, 'bo', label='Training loss')\n",
        "# b is for \"solid blue line\"\n",
        "plt.plot(epochs, val_loss, 'b', label='Validation loss')\n",
        "plt.title('Training and validation loss')\n",
        "plt.xlabel('Epochs')\n",
        "plt.ylabel('Loss')\n",
        "plt.legend()\n",
        "\n",
        "plt.show()"
      ],
      "metadata": {
        "colab": {
          "base_uri": "https://localhost:8080/",
          "height": 295
        },
        "id": "q4mfMkY2R-UP",
        "outputId": "d9d37f07-36bd-45c8-f9f5-7e21b489f044"
      },
      "execution_count": 27,
      "outputs": [
        {
          "output_type": "display_data",
          "data": {
            "image/png": "[encoded data removed]",
            "text/plain": [
              "<Figure size 432x288 with 1 Axes>"
            ]
          },
          "metadata": {
            "needs_background": "light"
          }
        }
      ]
    },
    {
      "cell_type": "code",
      "source": [
        "plt.clf()   # clear figure\n",
        "\n",
        "plt.plot(epochs, acc, 'bo', label='Training acc')\n",
        "plt.plot(epochs, val_acc, 'b', label='Validation acc')\n",
        "plt.title('Training and validation accuracy')\n",
        "plt.xlabel('Epochs')\n",
        "plt.ylabel('Accuracy')\n",
        "plt.legend()\n",
        "\n",
        "plt.show()"
      ],
      "metadata": {
        "colab": {
          "base_uri": "https://localhost:8080/",
          "height": 295
        },
        "id": "6SHrWsn-SRB_",
        "outputId": "cf3035c8-78ee-41dc-9e54-2ebe5a810162"
      },
      "execution_count": 28,
      "outputs": [
        {
          "output_type": "display_data",
          "data": {
            "image/png": "[encoded data removed]",
            "text/plain": [
              "<Figure size 432x288 with 1 Axes>"
            ]
          },
          "metadata": {
            "needs_background": "light"
          }
        }
      ]
    }
  ]
}